{
  "nbformat": 4,
  "nbformat_minor": 0,
  "metadata": {
    "colab": {
      "provenance": [],
      "include_colab_link": true
    },
    "kernelspec": {
      "name": "python3",
      "display_name": "Python 3"
    },
    "language_info": {
      "name": "python"
    }
  },
  "cells": [
    {
      "cell_type": "markdown",
      "metadata": {
        "id": "view-in-github",
        "colab_type": "text"
      },
      "source": [
        "<a href=\"https://colab.research.google.com/github/Yeung2098/Comp4471_Project/blob/main/Comp4471_Project.ipynb\" target=\"_parent\"><img src=\"https://colab.research.google.com/assets/colab-badge.svg\" alt=\"Open In Colab\"/></a>"
      ]
    },
    {
      "cell_type": "code",
      "source": [
        "!git clone https://github.com/Yeung2098/Comp4471_Project.git"
      ],
      "metadata": {
        "colab": {
          "base_uri": "https://localhost:8080/"
        },
        "id": "9YEzTWD73pMw",
        "outputId": "34e47697-84ee-4554-9b59-cd60bd34beef"
      },
      "execution_count": null,
      "outputs": [
        {
          "output_type": "stream",
          "name": "stdout",
          "text": [
            "Cloning into 'Comp4471_Project'...\n",
            "warning: You appear to have cloned an empty repository.\n"
          ]
        }
      ]
    },
    {
      "cell_type": "code",
      "source": [
        "!git push https://github.com/Yeung2098/Comp4471_Project.git"
      ],
      "metadata": {
        "id": "FFl0zyjY38eE",
        "outputId": "85d82c56-9ed9-44ae-ec67-a0a5703ae00e",
        "colab": {
          "base_uri": "https://localhost:8080/"
        }
      },
      "execution_count": null,
      "outputs": [
        {
          "output_type": "stream",
          "name": "stdout",
          "text": [
            "fatal: not a git repository (or any of the parent directories): .git\n"
          ]
        }
      ]
    },
    {
      "cell_type": "code",
      "execution_count": null,
      "metadata": {
        "id": "seCNXYcaWoKZ"
      },
      "outputs": [],
      "source": [
        "import torch\n",
        "import numpy as np"
      ]
    },
    {
      "cell_type": "code",
      "source": [
        "print(\"World\")"
      ],
      "metadata": {
        "colab": {
          "base_uri": "https://localhost:8080/"
        },
        "id": "TNzSwWc_gDZ6",
        "outputId": "19f39398-618c-464a-8bec-81e9731775af"
      },
      "execution_count": null,
      "outputs": [
        {
          "output_type": "stream",
          "name": "stdout",
          "text": [
            "World\n"
          ]
        }
      ]
    },
    {
      "cell_type": "code",
      "source": [
        "print(6)"
      ],
      "metadata": {
        "id": "p66I49UBgFtC",
        "colab": {
          "base_uri": "https://localhost:8080/"
        },
        "outputId": "110e2459-c65d-49ba-cab5-7cde88c387bf"
      },
      "execution_count": null,
      "outputs": [
        {
          "output_type": "stream",
          "name": "stdout",
          "text": [
            "6\n"
          ]
        }
      ]
    },
    {
      "cell_type": "code",
      "source": [],
      "metadata": {
        "id": "J7cA-Myggkdb"
      },
      "execution_count": null,
      "outputs": []
    },
    {
      "cell_type": "markdown",
      "source": [
        "import data from HASYV2"
      ],
      "metadata": {
        "id": "F7rbLoIbglJH"
      }
    },
    {
      "cell_type": "markdown",
      "source": [
        "process the data (sample some , eg 0-9 +-*/ tbc)"
      ],
      "metadata": {
        "id": "qSRz88jTgr4u"
      }
    },
    {
      "cell_type": "markdown",
      "source": [
        "train the TrOCR"
      ],
      "metadata": {
        "id": "TJJm2HmcgxMt"
      }
    }
  ]
}